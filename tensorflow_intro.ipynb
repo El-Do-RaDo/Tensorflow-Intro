{
  "nbformat": 4,
  "nbformat_minor": 0,
  "metadata": {
    "colab": {
      "name": "tensorflow_intro.ipynb",
      "provenance": [],
      "collapsed_sections": [],
      "authorship_tag": "ABX9TyNLLhANzJyEohqPTL8ZFFl7",
      "include_colab_link": true
    },
    "kernelspec": {
      "name": "python3",
      "display_name": "Python 3"
    }
  },
  "cells": [
    {
      "cell_type": "markdown",
      "metadata": {
        "id": "view-in-github",
        "colab_type": "text"
      },
      "source": [
        "<a href=\"https://colab.research.google.com/github/El-Do-RaDo/Tensorflow-Intro/blob/master/tensorflow_intro.ipynb\" target=\"_parent\"><img src=\"https://colab.research.google.com/assets/colab-badge.svg\" alt=\"Open In Colab\"/></a>"
      ]
    },
    {
      "cell_type": "markdown",
      "metadata": {
        "id": "pELSATI7sPKA",
        "colab_type": "text"
      },
      "source": [
        "# **Intro to TensorFlow**\n",
        "\n",
        "TensorFlow is a software library extensively used in machine learning. Here we'll learn how computations are represented and how to define a simple neural network in TensorFlow. For all the labs in 6.S191 2020, we'll be using the latest version of TensorFlow, TensorFlow 2, which affords great flexibility and the ability to imperatively execute operations, just like in Python. You'll notice that TensorFlow 2 is quite similar to Python in its syntax and imperative execution. Let's install TensorFlow and a couple of dependencies."
      ]
    },
    {
      "cell_type": "code",
      "metadata": {
        "id": "sMwJPS_Jr7AG",
        "colab_type": "code",
        "colab": {}
      },
      "source": [
        "import tensorflow as tf\n",
        "\n",
        "#install mit deeplearning package as this is mit deep learning from course\n",
        "!pip install mitdeeplearning\n",
        "import mitdeeplearning as mdl\n",
        "\n",
        "import numpy as np\n",
        "import matplotlib.pyplot as plt"
      ],
      "execution_count": 0,
      "outputs": []
    },
    {
      "cell_type": "markdown",
      "metadata": {
        "id": "3enLPrcst1n6",
        "colab_type": "text"
      },
      "source": [
        "##  Why is TensorFlow called TensorFlow?\n",
        "TensorFlow is called 'TensorFlow' because it handles the flow (node/mathematical operation) of Tensors, which are data structures that you can think of as multi-dimensional arrays. Tensors are represented as n-dimensional arrays of base dataypes such as a string or integer -- they provide a way to generalize vectors and matrices to higher dimensions.\n",
        "\n",
        "The shape of a Tensor defines its number of dimensions and the size of each dimension. The rank of a Tensor provides the number of dimensions (n-dimensions) -- you can also think of this as the Tensor's order or degree.\n",
        "\n",
        "Let's first look at 0-d Tensors, of which a scalar is an example:"
      ]
    },
    {
      "cell_type": "code",
      "metadata": {
        "id": "-9nv1xnat6sf",
        "colab_type": "code",
        "outputId": "a1e4f7b2-23f3-4981-b558-948dae57588a",
        "colab": {
          "base_uri": "https://localhost:8080/",
          "height": 51
        }
      },
      "source": [
        "sport = tf.constant(\"tennis\", tf.string)\n",
        "number = tf.constant(1.41421356237, tf.float64)\n",
        "\n",
        "print(\"sport is a {}-d tensor\".format(tf.rank(sport).numpy()))\n",
        "print(\"number is a {}-d tensor\".format(tf.rank(number).numpy()))"
      ],
      "execution_count": 0,
      "outputs": [
        {
          "output_type": "stream",
          "text": [
            "sport is a 0-d tensor\n",
            "number is a 0-d tensor\n"
          ],
          "name": "stdout"
        }
      ]
    },
    {
      "cell_type": "markdown",
      "metadata": {
        "id": "tn8MhWa0v4HW",
        "colab_type": "text"
      },
      "source": [
        "Vectors and lists can be used to create 1-d Tensors:"
      ]
    },
    {
      "cell_type": "code",
      "metadata": {
        "id": "cgKosJ1yv5iR",
        "colab_type": "code",
        "outputId": "cb296f53-be65-48e3-9bec-8763004dd4d2",
        "colab": {
          "base_uri": "https://localhost:8080/",
          "height": 51
        }
      },
      "source": [
        "sports = tf.constant([\"tennis\", \"basketball\"], tf.string)\n",
        "numbers = tf.constant([1.3786, 1.24578, 2.4273], tf.float64)\n",
        "\n",
        "print(\"sports is a {}-d tensor\".format(tf.rank(sports).numpy(), tf.shape(sports)))\n",
        "print(\"numbers is a {}-d tensor\".format(tf.rank(numbers).numpy(), tf.shape(numbers)))"
      ],
      "execution_count": 0,
      "outputs": [
        {
          "output_type": "stream",
          "text": [
            "sports is a 1-d tensor\n",
            "numbers is a 1-d tensor\n"
          ],
          "name": "stdout"
        }
      ]
    },
    {
      "cell_type": "markdown",
      "metadata": {
        "id": "W2vNuaAlw-7R",
        "colab_type": "text"
      },
      "source": [
        "Next we consider creating 2-d (i.e., matrices) and higher-rank Tensors. For examples, in future labs involving image processing and computer vision, we will use 4-d Tensors. Here the dimensions correspond to the number of example images in our batch, image height, image width, and the number of color channels."
      ]
    },
    {
      "cell_type": "code",
      "metadata": {
        "id": "hz2BgFSHyHQv",
        "colab_type": "code",
        "outputId": "fbb12438-11e7-4772-9c49-fb6bcbba2d5e",
        "colab": {
          "base_uri": "https://localhost:8080/",
          "height": 34
        }
      },
      "source": [
        "matrix = tf.constant([[1.2132,1.45,2.4545],[1.2577,3.45757,4.458]], tf.float64)\n",
        "\n",
        "assert isinstance(matrix, tf.Tensor)\n",
        "assert tf.rank(matrix).numpy() == 2\n",
        "\n",
        "print(\"matrix is a {}-d tensor\".format(tf.rank(matrix).numpy()))"
      ],
      "execution_count": 0,
      "outputs": [
        {
          "output_type": "stream",
          "text": [
            "matrix is a 2-d tensor\n"
          ],
          "name": "stdout"
        }
      ]
    },
    {
      "cell_type": "code",
      "metadata": {
        "id": "vCn22XotzeFl",
        "colab_type": "code",
        "outputId": "63885d51-2d72-4ab6-9f21-02fb4a625d94",
        "colab": {
          "base_uri": "https://localhost:8080/",
          "height": 34
        }
      },
      "source": [
        "images = tf.zeros((10,256,256,3))\n",
        "\n",
        "assert isinstance(images, tf.Tensor)\n",
        "assert tf.rank(images).numpy() == 4\n",
        "assert tf.shape(images).numpy().tolist() ==[10,256,256,3]\n",
        "\n",
        "print(\"images is a {}-d tensor\".format(tf.rank(images).numpy()))"
      ],
      "execution_count": 0,
      "outputs": [
        {
          "output_type": "stream",
          "text": [
            "images is a 4-d tensor\n"
          ],
          "name": "stdout"
        }
      ]
    },
    {
      "cell_type": "markdown",
      "metadata": {
        "id": "KLri3keV4ZLA",
        "colab_type": "text"
      },
      "source": [
        "As you have seen, the shape of a Tensor provides the number of elements in each Tensor dimension. The shape is quite useful, and we'll use it often. You can also use slicing to access subtensors within a higher-rank Tensor:\n",
        "\n"
      ]
    },
    {
      "cell_type": "code",
      "metadata": {
        "id": "bbsb6BJI4aED",
        "colab_type": "code",
        "outputId": "a398c484-7dc5-459d-c2d7-522b9517c98e",
        "colab": {
          "base_uri": "https://localhost:8080/",
          "height": 68
        }
      },
      "source": [
        "row_vector = matrix[1]\n",
        "column_vector = matrix[:,2]\n",
        "scalar = matrix[1,2]\n",
        "\n",
        "print(\"row vector: {}\".format(row_vector.numpy()))\n",
        "print(\"column vector: {}\".format(column_vector.numpy()))\n",
        "print(\"scalar: {}\".format(scalar.numpy()))"
      ],
      "execution_count": 0,
      "outputs": [
        {
          "output_type": "stream",
          "text": [
            "row vector: [1.2577  3.45757 4.458  ]\n",
            "column vector: [2.4545 4.458 ]\n",
            "scalar: 4.458\n"
          ],
          "name": "stdout"
        }
      ]
    },
    {
      "cell_type": "markdown",
      "metadata": {
        "id": "--Z_StgP76aA",
        "colab_type": "text"
      },
      "source": [
        "\n",
        "#  Computations on Tensors\n",
        "A convenient way to think about and visualize computations in TensorFlow is in terms of graphs. We can define this graph in terms of Tensors, which hold data, and the mathematical operations that act on these Tensors in some order. Let's look at a simple example, and define this computation using TensorFlow:\n",
        "\n",
        "![alt text](https://camo.githubusercontent.com/38d69872497861176d1231c3e1c6c3ef61270e44/68747470733a2f2f7261772e67697468756275736572636f6e74656e742e636f6d2f61616d696e692f696e74726f746f646565706c6561726e696e672f6d61737465722f6c6162312f696d672f6164642d67726170682e706e67)"
      ]
    },
    {
      "cell_type": "code",
      "metadata": {
        "id": "NwhhsztI8Erj",
        "colab_type": "code",
        "outputId": "2fe22ad2-515b-422c-ee5f-45e24d4de641",
        "colab": {
          "base_uri": "https://localhost:8080/",
          "height": 51
        }
      },
      "source": [
        "a = tf.constant(15)\n",
        "b = tf.constant(61)\n",
        "\n",
        "c1 = tf.add(a,b)\n",
        "c2 = a+b\n",
        "print(c1)\n",
        "print(c2)"
      ],
      "execution_count": 0,
      "outputs": [
        {
          "output_type": "stream",
          "text": [
            "tf.Tensor(76, shape=(), dtype=int32)\n",
            "tf.Tensor(76, shape=(), dtype=int32)\n"
          ],
          "name": "stdout"
        }
      ]
    },
    {
      "cell_type": "markdown",
      "metadata": {
        "id": "acKWjlRb9FCj",
        "colab_type": "text"
      },
      "source": [
        "Now let's consider a slightly more complicated example:\n",
        "\n",
        "![alt text](https://camo.githubusercontent.com/51a0292c93d9f6c25ad9a834c92e06e850e38e04/68747470733a2f2f7261772e67697468756275736572636f6e74656e742e636f6d2f61616d696e692f696e74726f746f646565706c6561726e696e672f6d61737465722f6c6162312f696d672f636f6d7075746174696f6e2d67726170682e706e67)\n",
        "\n",
        "\n",
        "Here, we take two inputs, a, b, and compute an output e. Each node in the graph represents an operation that takes some input, does some computation, and passes its output to another node.\n",
        "\n",
        "Let's define a simple function in TensorFlow to construct this computation function:"
      ]
    },
    {
      "cell_type": "code",
      "metadata": {
        "id": "CHWFny2l9RRE",
        "colab_type": "code",
        "outputId": "6bfd639c-e3b0-4b57-cf9d-c1f962c6be1f",
        "colab": {
          "base_uri": "https://localhost:8080/",
          "height": 34
        }
      },
      "source": [
        "def func(a,b):\n",
        "    c = tf.add(a,b)\n",
        "    d = tf.subtract(b, 1)\n",
        "    e = tf.multiply(c,d)\n",
        "    return e\n",
        "\n",
        "a, b = 1.5, 2.5\n",
        "e_out = func(a,b)\n",
        "print(e_out)"
      ],
      "execution_count": 0,
      "outputs": [
        {
          "output_type": "stream",
          "text": [
            "tf.Tensor(6.0, shape=(), dtype=float32)\n"
          ],
          "name": "stdout"
        }
      ]
    },
    {
      "cell_type": "markdown",
      "metadata": {
        "id": "TDOreFDV_HlS",
        "colab_type": "text"
      },
      "source": [
        " #  Neural networks in TensorFlow\n",
        "We can also define neural networks in TensorFlow. TensorFlow uses a high-level API called Keras that provides a powerful, intuitive framework for building and training deep learning models.\n",
        "\n",
        "Let's first consider the example of a simple perceptron defined by just one dense layer: $ y = \\sigma(Wx + b)$, where $W$ represents a matrix of weights, $b$ is a bias, $x$ is the input, $\\sigma$ is the sigmoid activation function, and $y$ is the output. We can also visualize this operation using a graph:\n",
        "\n",
        "![alt text](https://camo.githubusercontent.com/e31abc1367dbb092c50c3759e202d15b30afb95e/68747470733a2f2f7261772e67697468756275736572636f6e74656e742e636f6d2f61616d696e692f696e74726f746f646565706c6561726e696e672f6d61737465722f6c6162312f696d672f636f6d7075746174696f6e2d67726170682d322e706e67)\n",
        "\n",
        "Tensors can flow through abstract types called Layers -- the building blocks of neural networks. Layers implement common neural networks operations, and are used to update weights, compute losses, and define inter-layer connectivity. We will first define a Layer to implement the simple perceptron defined above."
      ]
    },
    {
      "cell_type": "code",
      "metadata": {
        "id": "VvCU_x1F_oUS",
        "colab_type": "code",
        "colab": {
          "base_uri": "https://localhost:8080/",
          "height": 68
        },
        "outputId": "ff2c2fde-97d5-47af-c0ed-5b849fb49624"
      },
      "source": [
        "class OurDenseLayer(tf.keras.layers.Layer):\n",
        "\n",
        "    def __init__(self, n_output_nodes):\n",
        "        super(OurDenseLayer, self).__init__()\n",
        "        self.n_output_nodes = n_output_nodes\n",
        "    \n",
        "    def build(self, input_shape):\n",
        "        d = int(input_shape[-1])\n",
        "        self.W = self.add_weight(\"weight\", shape=[d, self.n_output_nodes])\n",
        "        self.b = self.add_weight(\"bias\", shape=[1, self.n_output_nodes])\n",
        "\n",
        "    def call(self, x):\n",
        "        z = tf.add(tf.matmul(x, self.W), self.b)\n",
        "        y = tf.sigmoid(z)\n",
        "        return y\n",
        "tf.random.set_seed(1)\n",
        "layer = OurDenseLayer(3)\n",
        "layer.build((1,2))\n",
        "x_input = tf.constant([[1,2.0]], shape=(1,2))\n",
        "y = layer.call(x_input)\n",
        "print(y.numpy())\n",
        "mdl.lab1.test_custom_dense_layer_output(y)"
      ],
      "execution_count": 6,
      "outputs": [
        {
          "output_type": "stream",
          "text": [
            "[[0.2697859  0.45750418 0.66536945]]\n",
            "[PASS] test_custom_dense_layer_output\n"
          ],
          "name": "stdout"
        },
        {
          "output_type": "execute_result",
          "data": {
            "text/plain": [
              "True"
            ]
          },
          "metadata": {
            "tags": []
          },
          "execution_count": 6
        }
      ]
    },
    {
      "cell_type": "code",
      "metadata": {
        "id": "ZFKK0lJSiKpI",
        "colab_type": "code",
        "colab": {}
      },
      "source": [
        "from tensorflow.keras import Sequential\n",
        "from tensorflow.keras.layers import Dense\n",
        "\n",
        "n_output_nodes = 3\n",
        "\n",
        "model = Sequential()\n",
        "dense_layer = (Dense(n_output_nodes, input_shape=(2,)))\n",
        "\n",
        "model.add(dense_layer)"
      ],
      "execution_count": 0,
      "outputs": []
    },
    {
      "cell_type": "code",
      "metadata": {
        "id": "ILWgAUJYl2GG",
        "colab_type": "code",
        "colab": {
          "base_uri": "https://localhost:8080/",
          "height": 34
        },
        "outputId": "96e0bc5d-105a-455b-9b28-fbc1297b6e1c"
      },
      "source": [
        "x_input = tf.constant([[1,2.]], shape=(1,2))\n",
        "\n",
        "model_output = model.call(x_input)\n",
        "print(model_output)"
      ],
      "execution_count": 12,
      "outputs": [
        {
          "output_type": "stream",
          "text": [
            "tf.Tensor([[-0.84747624  0.52264667 -0.06161666]], shape=(1, 3), dtype=float32)\n"
          ],
          "name": "stdout"
        }
      ]
    },
    {
      "cell_type": "markdown",
      "metadata": {
        "id": "_de9YzqXoG68",
        "colab_type": "text"
      },
      "source": [
        "In addition to defining models using the Sequential API, we can also define neural networks by directly subclassing the Model class, which groups layers together to enable model training and inference. The Model class captures what we refer to as a \"model\" or as a \"network\". Using Subclassing, we can create a class for our model, and then define the forward pass through the network using the call function. Subclassing affords the flexibility to define custom layers, custom training loops, custom activation functions, and custom models. Let's define the same neural network as above now using Subclassing rather than the Sequential model."
      ]
    },
    {
      "cell_type": "code",
      "metadata": {
        "id": "RDzFJxY2oIXb",
        "colab_type": "code",
        "colab": {
          "base_uri": "https://localhost:8080/",
          "height": 34
        },
        "outputId": "a44909e4-3d24-4201-dd28-c965c2e22428"
      },
      "source": [
        "from tensorflow.keras import Model\n",
        "from tensorflow.keras.layers import Dense\n",
        "\n",
        "class SubclassModel(tf.keras.Model):\n",
        "    def __init__(self, n_output_nodes):\n",
        "        super(SubclassModel, self).__init__()\n",
        "        self.dense_layer = (Dense(n_output_nodes, input_shape=(2,)))\n",
        "\n",
        "    def call(self, inputs):\n",
        "        return self.dense_layer(inputs)\n",
        "\n",
        "n_output_nodes = 3\n",
        "model = SubclassModel(n_output_nodes)\n",
        "\n",
        "x_input = tf.constant([[1,2.]], shape=(1,2))\n",
        "\n",
        "print(model.call(x_input))"
      ],
      "execution_count": 14,
      "outputs": [
        {
          "output_type": "stream",
          "text": [
            "tf.Tensor([[-1.4054141  0.5451114  1.1903379]], shape=(1, 3), dtype=float32)\n"
          ],
          "name": "stdout"
        }
      ]
    },
    {
      "cell_type": "code",
      "metadata": {
        "id": "Zca9RjLXrO4F",
        "colab_type": "code",
        "colab": {
          "base_uri": "https://localhost:8080/",
          "height": 51
        },
        "outputId": "3d302f56-5cdc-40c5-f62c-420400234772"
      },
      "source": [
        "from tensorflow.keras import Model\n",
        "from tensorflow.keras.layers import Dense\n",
        "\n",
        "class IdentityModel(tf.keras.Model):\n",
        "\n",
        "    def __init__(self, n_output_nodes):\n",
        "        super(IdentityModel, self).__init__()\n",
        "        self.dense_layer = tf.keras.layers.Dense(n_output_nodes, activation='sigmoid')\n",
        "\n",
        "    def call(self, inputs, isidentity=False):\n",
        "        x = self.dense_layer(inputs)\n",
        "        if isidentity:\n",
        "            return inputs\n",
        "        return x\n",
        "\n",
        "n_output_nodes = 3\n",
        "model = IdentityModel(n_output_nodes)\n",
        "\n",
        "x_input = tf.constant([[1,2.]], shape=(1,2))\n",
        "\n",
        "out_activate = model.call(x_input)\n",
        "out_identity = model.call(x_input, isidentity=True)\n",
        "\n",
        "print(\"Network output with activation: {}; \\nNetwork identity output: {}\".format(out_activate.numpy(), out_identity.numpy()))\n"
      ],
      "execution_count": 17,
      "outputs": [
        {
          "output_type": "stream",
          "text": [
            "Network output with activation: [[0.11969814 0.43011418 0.34748617]]; \n",
            "Network identity output: [[1. 2.]]\n"
          ],
          "name": "stdout"
        }
      ]
    },
    {
      "cell_type": "markdown",
      "metadata": {
        "id": "YfxOIH-nwp1c",
        "colab_type": "text"
      },
      "source": [
        "# Automatic differentiation in TensorFlow\n",
        "Automatic differentiation is one of the most important parts of TensorFlow and is the backbone of training with backpropagation. We will use the TensorFlow GradientTape tf.GradientTape to trace operations for computing gradients later.\n",
        "\n",
        "When a forward pass is made through the network, all forward-pass operations get recorded to a \"tape\"; then, to compute the gradient, the tape is played backwards. By default, the tape is discarded after it is played backwards; this means that a particular tf.GradientTape can only compute one gradient, and subsequent calls throw a runtime error. However, we can compute multiple gradients over the same computation by creating a persistent gradient tape.\n",
        "\n",
        "First, we will look at how we can compute gradients using GradientTape and access them for computation. We define the simple function $ y = x^2$ and compute the gradient:"
      ]
    },
    {
      "cell_type": "code",
      "metadata": {
        "id": "9TAMk83owtj5",
        "colab_type": "code",
        "colab": {}
      },
      "source": [
        "x = tf.Variable(3.0)\n",
        "\n",
        "with tf.GradientTape() as tape:\n",
        "    y = x * x\n",
        "\n",
        "dy_dx = tape.gradient(y, x)\n",
        "\n",
        "assert dy_dx.numpy() == 6.0"
      ],
      "execution_count": 0,
      "outputs": []
    },
    {
      "cell_type": "markdown",
      "metadata": {
        "id": "37bHfKf60mLp",
        "colab_type": "text"
      },
      "source": [
        "In training neural networks, we use differentiation and stochastic gradient descent (SGD) to optimize a loss function. Now that we have a sense of how GradientTape can be used to compute and access derivatives, we will look at an example where we use automatic differentiation and SGD to find the minimum of $L=(x-x_f)^2$. Here $x_f$ is a variable for a desired value we are trying to optimize for; $L$ represents a loss that we are trying to minimize. While we can clearly solve this problem analytically ($x_{min}=x_f$), considering how we can compute this using GradientTape sets us up nicely for future labs where we use gradient descent to optimize entire neural network losses."
      ]
    },
    {
      "cell_type": "code",
      "metadata": {
        "id": "OUmBPR3y0nsg",
        "colab_type": "code",
        "colab": {
          "base_uri": "https://localhost:8080/",
          "height": 313
        },
        "outputId": "d07bff5d-8e1a-4949-f1c6-bdf7f9ab19bc"
      },
      "source": [
        "x = tf.Variable([tf.random.normal([1])])\n",
        "print(\"Initializing x={}\".format(x.numpy()))\n",
        "\n",
        "learning_rate = 1e-2 \n",
        "history = []\n",
        "\n",
        "x_f = 4\n",
        "\n",
        "\n",
        "for i in range(500):\n",
        "    with tf.GradientTape() as tape:\n",
        "        loss = (x - x_f) ** 2\n",
        "    \n",
        "\n",
        "\n",
        "    grad = tape.gradient(loss, x)\n",
        "    new_x = x - learning_rate*grad \n",
        "    x.assign(new_x) \n",
        "    history.append(x.numpy()[0])\n",
        "\n",
        "\n",
        "plt.plot(history)\n",
        "plt.plot([0, 500],[x_f,x_f])\n",
        "plt.legend(('Predicted', 'True'))\n",
        "plt.xlabel('Iteration')\n",
        "plt.ylabel('x value')\n"
      ],
      "execution_count": 23,
      "outputs": [
        {
          "output_type": "stream",
          "text": [
            "Initializing x=[[-0.39749852]]\n"
          ],
          "name": "stdout"
        },
        {
          "output_type": "execute_result",
          "data": {
            "text/plain": [
              "Text(0, 0.5, 'x value')"
            ]
          },
          "metadata": {
            "tags": []
          },
          "execution_count": 23
        },
        {
          "output_type": "display_data",
          "data": {
            "image/png": "[encoded data removed]",
            "text/plain": [
              "<Figure size 432x288 with 1 Axes>"
            ]
          },
          "metadata": {
            "tags": [],
            "needs_background": "light"
          }
        }
      ]
    }
  ]
}